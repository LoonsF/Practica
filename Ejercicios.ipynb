{
 "cells": [
  {
   "cell_type": "markdown",
   "metadata": {},
   "source": [
    "Nombre: Jean Marco Bello"
   ]
  },
  {
   "cell_type": "code",
   "execution_count": 4,
   "metadata": {},
   "outputs": [
    {
     "name": "stdout",
     "output_type": "stream",
     "text": [
      "El factorial de 3 es 6\n"
     ]
    }
   ],
   "source": [
    "num = int(input(\"Ingrese un número: \"))\n",
    "fact = 1\n",
    "for i in range(1, num + 1):\n",
    "    fact *= i\n",
    "print(\"El factorial de\", num, \"es\", fact)\n"
   ]
  },
  {
   "cell_type": "code",
   "execution_count": 5,
   "metadata": {},
   "outputs": [
    {
     "name": "stdout",
     "output_type": "stream",
     "text": [
      "2 es primo\n"
     ]
    }
   ],
   "source": [
    "num = int(input(\"Ingrese un número: \"))\n",
    "if num < 2:\n",
    "    print(num, \"no es primo\")\n",
    "else:\n",
    "    es_primo = True\n",
    "    for i in range(2, int(num**0.5) + 1):\n",
    "        if num % i == 0:\n",
    "            es_primo = False\n",
    "            break\n",
    "    print(num, \"es primo\" if es_primo else \"no es primo\")\n"
   ]
  },
  {
   "cell_type": "code",
   "execution_count": 7,
   "metadata": {},
   "outputs": [
    {
     "name": "stdout",
     "output_type": "stream",
     "text": [
      "El mayor es: 2.0\n",
      "El menor es: 1.0\n"
     ]
    }
   ],
   "source": [
    "n = int(input(\"¿Cuántos números ingresará (mínimo 3)? \"))\n",
    "while n < 3:\n",
    "    n = int(input(\"Ingrese al menos 3 números: \"))\n",
    "nums = [float(input(f\"Ingrese el número {i+1}: \")) for i in range(n)]\n",
    "print(\"El mayor es:\", max(nums))\n",
    "print(\"El menor es:\", min(nums))\n"
   ]
  },
  {
   "cell_type": "code",
   "execution_count": 8,
   "metadata": {},
   "outputs": [
    {
     "name": "stdout",
     "output_type": "stream",
     "text": [
      "No es palíndromo\n"
     ]
    }
   ],
   "source": [
    "cadena = input(\"Ingrese una cadena: \")\n",
    "cadena = cadena.replace(\" \", \"\").lower()\n",
    "print(\"Es palíndromo\" if cadena == cadena[::-1] else \"No es palíndromo\")\n"
   ]
  },
  {
   "cell_type": "code",
   "execution_count": 9,
   "metadata": {},
   "outputs": [
    {
     "name": "stdout",
     "output_type": "stream",
     "text": [
      "El número que se repite más es 1 y se repite 1 veces.\n"
     ]
    }
   ],
   "source": [
    "from collections import Counter\n",
    "nums = [int(input(f\"Ingrese el número {i+1}: \")) for i in range(7)]\n",
    "contador = Counter(nums)\n",
    "num_mas, repeticiones = contador.most_common(1)[0]\n",
    "print(\"El número que se repite más es\", num_mas, \"y se repite\", repeticiones, \"veces.\")\n"
   ]
  },
  {
   "cell_type": "code",
   "execution_count": 10,
   "metadata": {},
   "outputs": [
    {
     "name": "stdout",
     "output_type": "stream",
     "text": [
      "No son anagramas\n"
     ]
    }
   ],
   "source": [
    "palabra1 = input(\"Ingrese la primera palabra: \").lower()\n",
    "palabra2 = input(\"Ingrese la segunda palabra: \").lower()\n",
    "print(\"Son anagramas\" if sorted(palabra1) == sorted(palabra2) else \"No son anagramas\")\n"
   ]
  },
  {
   "cell_type": "code",
   "execution_count": 11,
   "metadata": {},
   "outputs": [
    {
     "name": "stdout",
     "output_type": "stream",
     "text": [
      "Números ordenados: [1, 2, 2, 3]\n"
     ]
    }
   ],
   "source": [
    "nums = list(map(int, input(\"Ingrese números separados por espacios: \").split()))\n",
    "n = len(nums)\n",
    "for i in range(n):\n",
    "    for j in range(n - i - 1):\n",
    "        if nums[j] > nums[j + 1]:\n",
    "            nums[j], nums[j + 1] = nums[j + 1], nums[j]\n",
    "print(\"Números ordenados:\", nums)\n"
   ]
  }
 ],
 "metadata": {
  "kernelspec": {
   "display_name": "Python 3",
   "language": "python",
   "name": "python3"
  },
  "language_info": {
   "codemirror_mode": {
    "name": "ipython",
    "version": 3
   },
   "file_extension": ".py",
   "mimetype": "text/x-python",
   "name": "python",
   "nbconvert_exporter": "python",
   "pygments_lexer": "ipython3",
   "version": "3.12.5"
  }
 },
 "nbformat": 4,
 "nbformat_minor": 2
}
